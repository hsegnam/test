{
 "cells": [
  {
   "cell_type": "code",
   "execution_count": 1,
   "id": "4ada4992",
   "metadata": {},
   "outputs": [],
   "source": [
    "x= 5*3.8-1"
   ]
  },
  {
   "cell_type": "code",
   "execution_count": 2,
   "id": "6116e5d4",
   "metadata": {},
   "outputs": [
    {
     "data": {
      "text/plain": [
       "18.0"
      ]
     },
     "execution_count": 2,
     "metadata": {},
     "output_type": "execute_result"
    }
   ],
   "source": [
    "x"
   ]
  },
  {
   "cell_type": "code",
   "execution_count": 5,
   "id": "4319ea97",
   "metadata": {},
   "outputs": [
    {
     "name": "stdout",
     "output_type": "stream",
     "text": [
      "False\n"
     ]
    }
   ],
   "source": [
    "python = ['cool']\n",
    "x = python in python\n",
    "\n",
    "print(x)"
   ]
  },
  {
   "cell_type": "code",
   "execution_count": 6,
   "id": "f712f41b",
   "metadata": {},
   "outputs": [
    {
     "name": "stdout",
     "output_type": "stream",
     "text": [
      "True\n"
     ]
    }
   ],
   "source": [
    "python = ['cool']\n",
    "x = 'cool' in python\n",
    "\n",
    "print(x)"
   ]
  },
  {
   "cell_type": "code",
   "execution_count": 8,
   "id": "cb040bd0",
   "metadata": {},
   "outputs": [
    {
     "name": "stdout",
     "output_type": "stream",
     "text": [
      "21\n"
     ]
    }
   ],
   "source": [
    "print(sum(range(1,7)))"
   ]
  },
  {
   "cell_type": "code",
   "execution_count": 9,
   "id": "2396a5b9",
   "metadata": {},
   "outputs": [],
   "source": [
    "a= 'bunty'"
   ]
  },
  {
   "cell_type": "code",
   "execution_count": 10,
   "id": "4e9b6ca0",
   "metadata": {},
   "outputs": [],
   "source": [
    "b = 'lahane'"
   ]
  },
  {
   "cell_type": "code",
   "execution_count": 12,
   "id": "b5c36c5d",
   "metadata": {},
   "outputs": [],
   "source": [
    "c = 'bunty' 'lahane'"
   ]
  },
  {
   "cell_type": "code",
   "execution_count": 13,
   "id": "fd299877",
   "metadata": {},
   "outputs": [
    {
     "data": {
      "text/plain": [
       "'buntylahane'"
      ]
     },
     "execution_count": 13,
     "metadata": {},
     "output_type": "execute_result"
    }
   ],
   "source": [
    "c"
   ]
  },
  {
   "cell_type": "code",
   "execution_count": 14,
   "id": "6b34d2bd",
   "metadata": {},
   "outputs": [
    {
     "ename": "SyntaxError",
     "evalue": "invalid syntax (<ipython-input-14-a7c3e09f165f>, line 1)",
     "output_type": "error",
     "traceback": [
      "\u001b[1;36m  File \u001b[1;32m\"<ipython-input-14-a7c3e09f165f>\"\u001b[1;36m, line \u001b[1;32m1\u001b[0m\n\u001b[1;33m    c = a b\u001b[0m\n\u001b[1;37m          ^\u001b[0m\n\u001b[1;31mSyntaxError\u001b[0m\u001b[1;31m:\u001b[0m invalid syntax\n"
     ]
    }
   ],
   "source": [
    "c = a b "
   ]
  },
  {
   "cell_type": "code",
   "execution_count": 18,
   "id": "9bd4c4ad",
   "metadata": {},
   "outputs": [],
   "source": [
    "string = '!ppy!'\n",
    "fruit = 'a'.join(list(string))"
   ]
  },
  {
   "cell_type": "code",
   "execution_count": 19,
   "id": "346f65b5",
   "metadata": {},
   "outputs": [
    {
     "data": {
      "text/plain": [
       "'!apapaya!'"
      ]
     },
     "execution_count": 19,
     "metadata": {},
     "output_type": "execute_result"
    }
   ],
   "source": [
    "fruit"
   ]
  },
  {
   "cell_type": "code",
   "execution_count": 20,
   "id": "15244b53",
   "metadata": {},
   "outputs": [
    {
     "data": {
      "text/plain": [
       "['!', 'p', 'p', 'y', '!']"
      ]
     },
     "execution_count": 20,
     "metadata": {},
     "output_type": "execute_result"
    }
   ],
   "source": [
    "list(string)"
   ]
  },
  {
   "cell_type": "code",
   "execution_count": null,
   "id": "81579e83",
   "metadata": {},
   "outputs": [],
   "source": []
  }
 ],
 "metadata": {
  "kernelspec": {
   "display_name": "Python 3",
   "language": "python",
   "name": "python3"
  },
  "language_info": {
   "codemirror_mode": {
    "name": "ipython",
    "version": 3
   },
   "file_extension": ".py",
   "mimetype": "text/x-python",
   "name": "python",
   "nbconvert_exporter": "python",
   "pygments_lexer": "ipython3",
   "version": "3.8.8"
  }
 },
 "nbformat": 4,
 "nbformat_minor": 5
}
