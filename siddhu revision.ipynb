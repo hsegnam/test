{
 "cells": [
  {
   "cell_type": "code",
   "execution_count": 24,
   "id": "ef76d588",
   "metadata": {},
   "outputs": [],
   "source": [
    "q=23"
   ]
  },
  {
   "cell_type": "code",
   "execution_count": 2,
   "id": "4f8e93fd",
   "metadata": {},
   "outputs": [
    {
     "data": {
      "text/plain": [
       "23"
      ]
     },
     "execution_count": 2,
     "metadata": {},
     "output_type": "execute_result"
    }
   ],
   "source": [
    "q"
   ]
  },
  {
   "cell_type": "code",
   "execution_count": 11,
   "id": "47236008",
   "metadata": {},
   "outputs": [],
   "source": [
    "a=1.1"
   ]
  },
  {
   "cell_type": "code",
   "execution_count": 5,
   "id": "9a1ae24c",
   "metadata": {},
   "outputs": [],
   "source": [
    "list1 = list()"
   ]
  },
  {
   "cell_type": "code",
   "execution_count": 12,
   "id": "648fbb5c",
   "metadata": {},
   "outputs": [],
   "source": [
    "name = 'Siddhesh'"
   ]
  },
  {
   "cell_type": "code",
   "execution_count": 13,
   "id": "69dd8bcd",
   "metadata": {},
   "outputs": [
    {
     "data": {
      "text/plain": [
       "str"
      ]
     },
     "execution_count": 13,
     "metadata": {},
     "output_type": "execute_result"
    }
   ],
   "source": [
    "type(name)"
   ]
  },
  {
   "cell_type": "code",
   "execution_count": 14,
   "id": "ac87a3dc",
   "metadata": {},
   "outputs": [],
   "source": [
    "data = '10'"
   ]
  },
  {
   "cell_type": "code",
   "execution_count": 15,
   "id": "2d3d9b20",
   "metadata": {},
   "outputs": [
    {
     "data": {
      "text/plain": [
       "str"
      ]
     },
     "execution_count": 15,
     "metadata": {},
     "output_type": "execute_result"
    }
   ],
   "source": [
    "type(data)"
   ]
  },
  {
   "cell_type": "code",
   "execution_count": 22,
   "id": "ff796663",
   "metadata": {},
   "outputs": [],
   "source": [
    "data1 = 10.0"
   ]
  },
  {
   "cell_type": "code",
   "execution_count": 23,
   "id": "7de16bd1",
   "metadata": {},
   "outputs": [
    {
     "data": {
      "text/plain": [
       "float"
      ]
     },
     "execution_count": 23,
     "metadata": {},
     "output_type": "execute_result"
    }
   ],
   "source": [
    "type(data1)"
   ]
  },
  {
   "cell_type": "code",
   "execution_count": 10,
   "id": "f8f925cc",
   "metadata": {},
   "outputs": [
    {
     "data": {
      "text/plain": [
       "int"
      ]
     },
     "execution_count": 10,
     "metadata": {},
     "output_type": "execute_result"
    }
   ],
   "source": [
    "type(a)"
   ]
  },
  {
   "cell_type": "code",
   "execution_count": 7,
   "id": "b4afb5e7",
   "metadata": {},
   "outputs": [
    {
     "data": {
      "text/plain": [
       "[]"
      ]
     },
     "execution_count": 7,
     "metadata": {},
     "output_type": "execute_result"
    }
   ],
   "source": [
    "list1"
   ]
  },
  {
   "cell_type": "code",
   "execution_count": 8,
   "id": "9fe18c45",
   "metadata": {},
   "outputs": [],
   "source": [
    "var1 = [1,2,3,4,5,6]"
   ]
  },
  {
   "cell_type": "code",
   "execution_count": 9,
   "id": "bf464193",
   "metadata": {},
   "outputs": [],
   "source": [
    "# add, delete, change/modify,"
   ]
  },
  {
   "cell_type": "code",
   "execution_count": null,
   "id": "2db13da6",
   "metadata": {},
   "outputs": [],
   "source": [
    "# Add ---> append(), insert() "
   ]
  }
 ],
 "metadata": {
  "kernelspec": {
   "display_name": "Python 3",
   "language": "python",
   "name": "python3"
  },
  "language_info": {
   "codemirror_mode": {
    "name": "ipython",
    "version": 3
   },
   "file_extension": ".py",
   "mimetype": "text/x-python",
   "name": "python",
   "nbconvert_exporter": "python",
   "pygments_lexer": "ipython3",
   "version": "3.8.8"
  }
 },
 "nbformat": 4,
 "nbformat_minor": 5
}
